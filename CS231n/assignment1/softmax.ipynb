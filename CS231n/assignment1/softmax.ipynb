{
 "cells": [
  {
   "cell_type": "markdown",
   "metadata": {
    "tags": [
     "pdf-title"
    ]
   },
   "source": [
    "# Softmax exercise\n",
    "\n",
    "*Complete and hand in this completed worksheet (including its outputs and any supporting code outside of the worksheet) with your assignment submission. For more details see the [assignments page](http://vision.stanford.edu/teaching/cs231n/assignments.html) on the course website.*\n",
    "\n",
    "This exercise is analogous to the SVM exercise. You will:\n",
    "\n",
    "- implement a fully-vectorized **loss function** for the Softmax classifier\n",
    "- implement the fully-vectorized expression for its **analytic gradient**\n",
    "- **check your implementation** with numerical gradient\n",
    "- use a validation set to **tune the learning rate and regularization** strength\n",
    "- **optimize** the loss function with **SGD**\n",
    "- **visualize** the final learned weights\n"
   ]
  },
  {
   "cell_type": "code",
   "execution_count": 1,
   "metadata": {
    "tags": [
     "pdf-ignore"
    ]
   },
   "outputs": [],
   "source": [
    "import random\n",
    "import numpy as np\n",
    "from cs231n.data_utils import load_CIFAR10\n",
    "import matplotlib.pyplot as plt\n",
    "\n",
    "%matplotlib inline\n",
    "plt.rcParams['figure.figsize'] = (10.0, 8.0) # set default size of plots\n",
    "plt.rcParams['image.interpolation'] = 'nearest'\n",
    "plt.rcParams['image.cmap'] = 'gray'\n",
    "\n",
    "# for auto-reloading extenrnal modules\n",
    "# see http://stackoverflow.com/questions/1907993/autoreload-of-modules-in-ipython\n",
    "%load_ext autoreload\n",
    "%autoreload 2"
   ]
  },
  {
   "cell_type": "code",
   "execution_count": 2,
   "metadata": {
    "tags": [
     "pdf-ignore"
    ]
   },
   "outputs": [
    {
     "name": "stdout",
     "output_type": "stream",
     "text": [
      "Train data shape:  (49000, 3073)\n",
      "Train labels shape:  (49000,)\n",
      "Validation data shape:  (1000, 3073)\n",
      "Validation labels shape:  (1000,)\n",
      "Test data shape:  (1000, 3073)\n",
      "Test labels shape:  (1000,)\n",
      "dev data shape:  (500, 3073)\n",
      "dev labels shape:  (500,)\n"
     ]
    }
   ],
   "source": [
    "def get_CIFAR10_data(num_training=49000, num_validation=1000, num_test=1000, num_dev=500):\n",
    "    \"\"\"\n",
    "    Load the CIFAR-10 dataset from disk and perform preprocessing to prepare\n",
    "    it for the linear classifier. These are the same steps as we used for the\n",
    "    SVM, but condensed to a single function.  \n",
    "    \"\"\"\n",
    "    # Load the raw CIFAR-10 data\n",
    "    cifar10_dir = 'cs231n/datasets/cifar-10-batches-py'\n",
    "    \n",
    "    # Cleaning up variables to prevent loading data multiple times (which may cause memory issue)\n",
    "    try:\n",
    "       del X_train, y_train\n",
    "       del X_test, y_test\n",
    "       print('Clear previously loaded data.')\n",
    "    except:\n",
    "       pass\n",
    "\n",
    "    X_train, y_train, X_test, y_test = load_CIFAR10(cifar10_dir)\n",
    "    \n",
    "    # subsample the data\n",
    "    mask = list(range(num_training, num_training + num_validation))\n",
    "    X_val = X_train[mask]\n",
    "    y_val = y_train[mask]\n",
    "    mask = list(range(num_training))\n",
    "    X_train = X_train[mask]\n",
    "    y_train = y_train[mask]\n",
    "    mask = list(range(num_test))\n",
    "    X_test = X_test[mask]\n",
    "    y_test = y_test[mask]\n",
    "    mask = np.random.choice(num_training, num_dev, replace=False)\n",
    "    X_dev = X_train[mask]\n",
    "    y_dev = y_train[mask]\n",
    "    \n",
    "    # Preprocessing: reshape the image data into rows\n",
    "    X_train = np.reshape(X_train, (X_train.shape[0], -1))\n",
    "    X_val = np.reshape(X_val, (X_val.shape[0], -1))\n",
    "    X_test = np.reshape(X_test, (X_test.shape[0], -1))\n",
    "    X_dev = np.reshape(X_dev, (X_dev.shape[0], -1))\n",
    "    \n",
    "    # Normalize the data: subtract the mean image\n",
    "    mean_image = np.mean(X_train, axis = 0)\n",
    "    X_train -= mean_image\n",
    "    X_val -= mean_image\n",
    "    X_test -= mean_image\n",
    "    X_dev -= mean_image\n",
    "    \n",
    "    # add bias dimension and transform into columns\n",
    "    X_train = np.hstack([X_train, np.ones((X_train.shape[0], 1))])\n",
    "    X_val = np.hstack([X_val, np.ones((X_val.shape[0], 1))])\n",
    "    X_test = np.hstack([X_test, np.ones((X_test.shape[0], 1))])\n",
    "    X_dev = np.hstack([X_dev, np.ones((X_dev.shape[0], 1))])\n",
    "    \n",
    "    return X_train, y_train, X_val, y_val, X_test, y_test, X_dev, y_dev\n",
    "\n",
    "\n",
    "# Invoke the above function to get our data.\n",
    "X_train, y_train, X_val, y_val, X_test, y_test, X_dev, y_dev = get_CIFAR10_data()\n",
    "print('Train data shape: ', X_train.shape)\n",
    "print('Train labels shape: ', y_train.shape)\n",
    "print('Validation data shape: ', X_val.shape)\n",
    "print('Validation labels shape: ', y_val.shape)\n",
    "print('Test data shape: ', X_test.shape)\n",
    "print('Test labels shape: ', y_test.shape)\n",
    "print('dev data shape: ', X_dev.shape)\n",
    "print('dev labels shape: ', y_dev.shape)"
   ]
  },
  {
   "cell_type": "markdown",
   "metadata": {},
   "source": [
    "## Softmax Classifier\n",
    "\n",
    "Your code for this section will all be written inside **cs231n/classifiers/softmax.py**. \n"
   ]
  },
  {
   "cell_type": "code",
   "execution_count": 3,
   "metadata": {},
   "outputs": [
    {
     "name": "stdout",
     "output_type": "stream",
     "text": [
      "loss: 2.385620\n",
      "sanity check: 2.302585\n"
     ]
    }
   ],
   "source": [
    "# First implement the naive softmax loss function with nested loops.\n",
    "# Open the file cs231n/classifiers/softmax.py and implement the\n",
    "# softmax_loss_naive function.\n",
    "\n",
    "from cs231n.classifiers.softmax import softmax_loss_naive\n",
    "import time\n",
    "\n",
    "# Generate a random softmax weight matrix and use it to compute the loss.\n",
    "W = np.random.randn(3073, 10) * 0.0001\n",
    "loss, grad = softmax_loss_naive(W, X_dev, y_dev, 0.0)\n",
    "\n",
    "# As a rough sanity check, our loss should be something close to -log(0.1).\n",
    "print('loss: %f' % loss)\n",
    "print('sanity check: %f' % (-np.log(0.1)))"
   ]
  },
  {
   "cell_type": "markdown",
   "metadata": {
    "tags": [
     "pdf-inline"
    ]
   },
   "source": [
    "**Inline Question 1**\n",
    "\n",
    "Why do we expect our loss to be close to -log(0.1)? Explain briefly.**\n",
    "\n",
    "$\\color{blue}{\\textit Your Answer:}$ The wights are randomly initialized so, all classes must have almost same weight in start. There are 10 classes, so each class will get 0.1 in the probability distribution. When we compute  -log(correct class prob) then it will -log(0.1).\n",
    "\n"
   ]
  },
  {
   "cell_type": "code",
   "execution_count": 4,
   "metadata": {},
   "outputs": [
    {
     "name": "stdout",
     "output_type": "stream",
     "text": [
      "numerical: 0.362688 analytic: 0.362688, relative error: 7.254104e-08\n",
      "numerical: 0.614299 analytic: 0.614299, relative error: 6.558717e-08\n",
      "numerical: -0.408085 analytic: -0.408085, relative error: 3.035878e-08\n",
      "numerical: 0.922689 analytic: 0.922689, relative error: 3.874487e-08\n",
      "numerical: -0.511512 analytic: -0.511512, relative error: 9.065034e-08\n",
      "numerical: 0.653422 analytic: 0.653422, relative error: 4.059732e-08\n",
      "numerical: -2.174680 analytic: -2.174680, relative error: 9.680556e-09\n",
      "numerical: 1.889723 analytic: 1.889723, relative error: 3.532774e-08\n",
      "numerical: 0.651674 analytic: 0.651674, relative error: 7.155400e-08\n",
      "numerical: 0.703767 analytic: 0.703767, relative error: 4.646498e-09\n",
      "numerical: 2.014161 analytic: 2.014161, relative error: 1.333064e-08\n",
      "numerical: -1.282691 analytic: -1.282691, relative error: 4.413105e-09\n",
      "numerical: 1.436122 analytic: 1.436121, relative error: 1.552987e-08\n",
      "numerical: 0.272829 analytic: 0.272829, relative error: 3.318510e-08\n",
      "numerical: 0.564622 analytic: 0.564622, relative error: 6.782410e-08\n",
      "numerical: 1.982444 analytic: 1.982444, relative error: 3.857465e-08\n",
      "numerical: -0.278221 analytic: -0.278221, relative error: 2.544185e-07\n",
      "numerical: -3.480810 analytic: -3.480810, relative error: 1.517539e-08\n",
      "numerical: -1.263090 analytic: -1.263090, relative error: 5.352392e-08\n",
      "numerical: -1.324549 analytic: -1.324549, relative error: 2.839061e-08\n"
     ]
    }
   ],
   "source": [
    "# Complete the implementation of softmax_loss_naive and implement a (naive)\n",
    "# version of the gradient that uses nested loops.\n",
    "loss, grad = softmax_loss_naive(W, X_dev, y_dev, 0.0)\n",
    "\n",
    "# As we did for the SVM, use numeric gradient checking as a debugging tool.\n",
    "# The numeric gradient should be close to the analytic gradient.\n",
    "from cs231n.gradient_check import grad_check_sparse\n",
    "f = lambda w: softmax_loss_naive(w, X_dev, y_dev, 0.0)[0]\n",
    "grad_numerical = grad_check_sparse(f, W, grad, 10)\n",
    "\n",
    "# similar to SVM case, do another gradient check with regularization\n",
    "loss, grad = softmax_loss_naive(W, X_dev, y_dev, 5e1)\n",
    "f = lambda w: softmax_loss_naive(w, X_dev, y_dev, 5e1)[0]\n",
    "grad_numerical = grad_check_sparse(f, W, grad, 10)"
   ]
  },
  {
   "cell_type": "code",
   "execution_count": 10,
   "metadata": {},
   "outputs": [
    {
     "name": "stdout",
     "output_type": "stream",
     "text": [
      "naive loss: 2.385620e+00 computed in 0.078855s\n",
      "vectorized loss: 2.385620e+00 computed in 0.004765s\n",
      "Loss difference: 0.000000\n",
      "Gradient difference: 0.000000\n"
     ]
    }
   ],
   "source": [
    "# Now that we have a naive implementation of the softmax loss function and its gradient,\n",
    "# implement a vectorized version in softmax_loss_vectorized.\n",
    "# The two versions should compute the same results, but the vectorized version should be\n",
    "# much faster.\n",
    "tic = time.time()\n",
    "loss_naive, grad_naive = softmax_loss_naive(W, X_dev, y_dev, 0.000005)\n",
    "toc = time.time()\n",
    "print('naive loss: %e computed in %fs' % (loss_naive, toc - tic))\n",
    "\n",
    "from cs231n.classifiers.softmax import softmax_loss_vectorized\n",
    "tic = time.time()\n",
    "loss_vectorized, grad_vectorized = softmax_loss_vectorized(W, X_dev, y_dev, 0.000005)\n",
    "toc = time.time()\n",
    "print('vectorized loss: %e computed in %fs' % (loss_vectorized, toc - tic))\n",
    "    \n",
    "# As we did for the SVM, we use the Frobenius norm to compare the two versions\n",
    "# of the gradient.\n",
    "grad_difference = np.linalg.norm(grad_naive - grad_vectorized, ord='fro')\n",
    "print('Loss difference: %f' % np.abs(loss_naive - loss_vectorized))\n",
    "print('Gradient difference: %f' % grad_difference)"
   ]
  },
  {
   "cell_type": "code",
   "execution_count": 15,
   "metadata": {
    "tags": [
     "code"
    ]
   },
   "outputs": [
    {
     "name": "stdout",
     "output_type": "stream",
     "text": [
      "training accuracy: 0.3269591836734694\n",
      "validation accuracy: 0.343\n",
      "training accuracy: 0.32612244897959186\n",
      "validation accuracy: 0.342\n",
      "training accuracy: 0.32718367346938776\n",
      "validation accuracy: 0.34\n",
      "training accuracy: 0.32910204081632655\n",
      "validation accuracy: 0.34\n",
      "training accuracy: 0.32940816326530614\n",
      "validation accuracy: 0.345\n",
      "training accuracy: 0.32855102040816325\n",
      "validation accuracy: 0.344\n",
      "training accuracy: 0.3320612244897959\n",
      "validation accuracy: 0.337\n",
      "training accuracy: 0.3243673469387755\n",
      "validation accuracy: 0.339\n",
      "training accuracy: 0.3304489795918367\n",
      "validation accuracy: 0.344\n",
      "training accuracy: 0.3299183673469388\n",
      "validation accuracy: 0.347\n",
      "training accuracy: 0.3321224489795918\n",
      "validation accuracy: 0.344\n",
      "training accuracy: 0.32846938775510204\n",
      "validation accuracy: 0.345\n",
      "training accuracy: 0.32477551020408163\n",
      "validation accuracy: 0.345\n",
      "training accuracy: 0.32557142857142857\n",
      "validation accuracy: 0.349\n",
      "training accuracy: 0.32724489795918366\n",
      "validation accuracy: 0.344\n",
      "training accuracy: 0.32908163265306123\n",
      "validation accuracy: 0.34\n",
      "training accuracy: 0.326\n",
      "validation accuracy: 0.335\n",
      "training accuracy: 0.32910204081632655\n",
      "validation accuracy: 0.344\n",
      "training accuracy: 0.3288979591836735\n",
      "validation accuracy: 0.345\n",
      "training accuracy: 0.3263469387755102\n",
      "validation accuracy: 0.343\n",
      "training accuracy: 0.3330408163265306\n",
      "validation accuracy: 0.343\n",
      "training accuracy: 0.33177551020408164\n",
      "validation accuracy: 0.345\n",
      "training accuracy: 0.3316530612244898\n",
      "validation accuracy: 0.346\n",
      "training accuracy: 0.3331224489795918\n",
      "validation accuracy: 0.347\n",
      "training accuracy: 0.3313673469387755\n",
      "validation accuracy: 0.344\n",
      "lr 6.000000e-08 reg 1.000000e-07 train accuracy: 0.328898 val accuracy: 0.345000\n",
      "lr 6.000000e-08 reg 1.000000e-04 train accuracy: 0.329102 val accuracy: 0.344000\n",
      "lr 6.000000e-08 reg 2.000000e+04 train accuracy: 0.326347 val accuracy: 0.343000\n",
      "lr 6.000000e-08 reg 2.500000e+04 train accuracy: 0.329082 val accuracy: 0.340000\n",
      "lr 6.000000e-08 reg 3.000000e+04 train accuracy: 0.326000 val accuracy: 0.335000\n",
      "lr 1.000000e-07 reg 1.000000e-07 train accuracy: 0.329102 val accuracy: 0.340000\n",
      "lr 1.000000e-07 reg 1.000000e-04 train accuracy: 0.327184 val accuracy: 0.340000\n",
      "lr 1.000000e-07 reg 2.000000e+04 train accuracy: 0.329408 val accuracy: 0.345000\n",
      "lr 1.000000e-07 reg 2.500000e+04 train accuracy: 0.326959 val accuracy: 0.343000\n",
      "lr 1.000000e-07 reg 3.000000e+04 train accuracy: 0.326122 val accuracy: 0.342000\n",
      "lr 2.000000e-07 reg 1.000000e-07 train accuracy: 0.325571 val accuracy: 0.349000\n",
      "lr 2.000000e-07 reg 1.000000e-04 train accuracy: 0.324776 val accuracy: 0.345000\n",
      "lr 2.000000e-07 reg 2.000000e+04 train accuracy: 0.327245 val accuracy: 0.344000\n",
      "lr 2.000000e-07 reg 2.500000e+04 train accuracy: 0.332122 val accuracy: 0.344000\n",
      "lr 2.000000e-07 reg 3.000000e+04 train accuracy: 0.328469 val accuracy: 0.345000\n",
      "lr 5.000000e-05 reg 1.000000e-07 train accuracy: 0.330449 val accuracy: 0.344000\n",
      "lr 5.000000e-05 reg 1.000000e-04 train accuracy: 0.324367 val accuracy: 0.339000\n",
      "lr 5.000000e-05 reg 2.000000e+04 train accuracy: 0.329918 val accuracy: 0.347000\n",
      "lr 5.000000e-05 reg 2.500000e+04 train accuracy: 0.328551 val accuracy: 0.344000\n",
      "lr 5.000000e-05 reg 3.000000e+04 train accuracy: 0.332061 val accuracy: 0.337000\n",
      "lr 1.000000e-04 reg 1.000000e-07 train accuracy: 0.333122 val accuracy: 0.347000\n",
      "lr 1.000000e-04 reg 1.000000e-04 train accuracy: 0.331653 val accuracy: 0.346000\n",
      "lr 1.000000e-04 reg 2.000000e+04 train accuracy: 0.331367 val accuracy: 0.344000\n",
      "lr 1.000000e-04 reg 2.500000e+04 train accuracy: 0.333041 val accuracy: 0.343000\n",
      "lr 1.000000e-04 reg 3.000000e+04 train accuracy: 0.331776 val accuracy: 0.345000\n",
      "best validation accuracy achieved during cross-validation: 0.349000\n"
     ]
    }
   ],
   "source": [
    "# Use the validation set to tune hyperparameters (regularization strength and\n",
    "# learning rate). You should experiment with different ranges for the learning\n",
    "# rates and regularization strengths; if you are careful you should be able to\n",
    "# get a classification accuracy of over 0.35 on the validation set.\n",
    "from cs231n.classifiers import Softmax\n",
    "results = {}\n",
    "best_val = -1\n",
    "best_softmax = None\n",
    "learning_rates = [1e-7, 5e-5, 2e-7, 6e-8, 1e-4]\n",
    "regularization_strengths = [2.5e4, 3e4, 1e-4, 1e-7, 2e4]\n",
    "\n",
    "################################################################################\n",
    "# TODO:                                                                        #\n",
    "# Use the validation set to set the learning rate and regularization strength. #\n",
    "# This should be identical to the validation that you did for the SVM; save    #\n",
    "# the best trained softmax classifer in best_softmax.                          #\n",
    "################################################################################\n",
    "# *****START OF YOUR CODE (DO NOT DELETE/MODIFY THIS LINE)*****\n",
    "grid_search = [(i,j) for i in learning_rates for j in regularization_strengths]\n",
    "\n",
    "\n",
    "\n",
    "\n",
    "best_val= 0.0\n",
    "for i, j in grid_search:\n",
    "    \n",
    "    softmax_model = Softmax()\n",
    "    loss_hist = softmax_model.train(X_train, y_train, learning_rate=1e-7, reg=2.5e4,\n",
    "                      num_iters=1500, verbose=False)\n",
    "    y_train_pred = softmax_model.predict(X_train)\n",
    "    y_val_pred = softmax_model.predict(X_val)\n",
    "\n",
    "    train_accr = np.mean(y_train == y_train_pred)\n",
    "    val_accr = np.mean(y_val == y_val_pred)\n",
    "    \n",
    "    print('training accuracy:',train_accr)\n",
    "    print('validation accuracy:',val_accr)\n",
    "    \n",
    "    results[(i,j)] = (train_accr, val_accr)\n",
    "    if(val_accr > best_val):\n",
    "        best_val = val_accr\n",
    "        best_softmax = softmax_model\n",
    "    \n",
    "\n",
    "\n",
    "pass\n",
    "\n",
    "# *****END OF YOUR CODE (DO NOT DELETE/MODIFY THIS LINE)*****\n",
    "    \n",
    "# Print out results.\n",
    "for lr, reg in sorted(results):\n",
    "    train_accuracy, val_accuracy = results[(lr, reg)]\n",
    "    print('lr %e reg %e train accuracy: %f val accuracy: %f' % (\n",
    "                lr, reg, train_accuracy, val_accuracy))\n",
    "    \n",
    "print('best validation accuracy achieved during cross-validation: %f' % best_val)"
   ]
  },
  {
   "cell_type": "code",
   "execution_count": 16,
   "metadata": {},
   "outputs": [
    {
     "name": "stdout",
     "output_type": "stream",
     "text": [
      "softmax on raw pixels final test set accuracy: 0.336000\n"
     ]
    }
   ],
   "source": [
    "# evaluate on test set\n",
    "# Evaluate the best softmax on test set\n",
    "y_test_pred = best_softmax.predict(X_test)\n",
    "test_accuracy = np.mean(y_test == y_test_pred)\n",
    "print('softmax on raw pixels final test set accuracy: %f' % (test_accuracy, ))"
   ]
  },
  {
   "cell_type": "markdown",
   "metadata": {
    "tags": [
     "pdf-inline"
    ]
   },
   "source": [
    "**Inline Question 2** - *True or False*\n",
    "\n",
    "Suppose the overall training loss is defined as the sum of the per-datapoint loss over all training examples. It is possible to add a new datapoint to a training set that would leave the SVM loss unchanged, but this is not the case with the Softmax classifier loss.\n",
    "\n",
    "$\\color{blue}{\\textit Your Answer:}$\n",
    "\n",
    "\n",
    "$\\color{blue}{\\textit Your Explanation:}$\n",
    "\n"
   ]
  },
  {
   "cell_type": "code",
   "execution_count": 17,
   "metadata": {},
   "outputs": [
    {
     "data": {
      "image/png": "[encoded data removed]",
      "text/plain": [
       "<Figure size 432x288 with 10 Axes>"
      ]
     },
     "metadata": {
      "needs_background": "light"
     },
     "output_type": "display_data"
    }
   ],
   "source": [
    "# Visualize the learned weights for each class\n",
    "w = best_softmax.W[:-1,:] # strip out the bias\n",
    "w = w.reshape(32, 32, 3, 10)\n",
    "\n",
    "w_min, w_max = np.min(w), np.max(w)\n",
    "\n",
    "classes = ['plane', 'car', 'bird', 'cat', 'deer', 'dog', 'frog', 'horse', 'ship', 'truck']\n",
    "for i in range(10):\n",
    "    plt.subplot(2, 5, i + 1)\n",
    "    \n",
    "    # Rescale the weights to be between 0 and 255\n",
    "    wimg = 255.0 * (w[:, :, :, i].squeeze() - w_min) / (w_max - w_min)\n",
    "    plt.imshow(wimg.astype('uint8'))\n",
    "    plt.axis('off')\n",
    "    plt.title(classes[i])"
   ]
  },
  {
   "cell_type": "code",
   "execution_count": null,
   "metadata": {},
   "outputs": [],
   "source": []
  }
 ],
 "metadata": {
  "kernelspec": {
   "display_name": "Python 3",
   "language": "python",
   "name": "python3"
  },
  "language_info": {
   "codemirror_mode": {
    "name": "ipython",
    "version": 3
   },
   "file_extension": ".py",
   "mimetype": "text/x-python",
   "name": "python",
   "nbconvert_exporter": "python",
   "pygments_lexer": "ipython3",
   "version": "3.7.1"
  }
 },
 "nbformat": 4,
 "nbformat_minor": 1
}
